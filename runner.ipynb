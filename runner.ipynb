{
 "cells": [
  {
   "cell_type": "code",
   "execution_count": 4,
   "metadata": {},
   "outputs": [],
   "source": [
    "from plumber.streams import IBLEidStream\n",
    "from plumber.pipes import DaartInf, IBLMarkerExtractor, SimpleEnsembler, OverviewPlotter\n",
    "\n",
    "from plumber import Stream, Pipe, PipeLine\n",
    "from tqdm import tqdm\n",
    "\n",
    "artifact_path = \"./artifacts\""
   ]
  },
  {
   "cell_type": "code",
   "execution_count": 2,
   "metadata": {},
   "outputs": [],
   "source": [
    "# Closest setting\n",
    "# - if CAMERA = \"left\" then camera is to the left of the mouse (you are in mouse frame of reference)\n",
    "# -- then the closest paw is the paw=\"paw_r\" as it is in the right hand side of the screen\n",
    "\n",
    "# marker_type = 'LP' or 'DLC'\n",
    "# So strong combos:\n",
    "# view = 'left'\n",
    "# paw = 'paw_r'\n",
    "\n",
    "# view = 'right'\n",
    "# paw = 'paw_r'\n",
    "\n",
    "\n",
    "# Weak combos:\n",
    "# view = 'left'\n",
    "# paw = 'paw_l'\n",
    "\n",
    "# view = 'right'\n",
    "# paw = 'paw_l'"
   ]
  },
  {
   "cell_type": "code",
   "execution_count": null,
   "metadata": {},
   "outputs": [],
   "source": [
    "def make_pipeline(idx=1, marker_type = 'DLC', view=\"left\", paw=\"paw_r\"):\n",
    "\n",
    "    # One stream\n",
    "    input_stream = IBLEidStream('eid_stream', idx)\n",
    "\n",
    "    # pipes\n",
    "    extractor = IBLMarkerExtractor('markers', artifact_path, smooth=False, view=view, paw=paw, mtype=marker_type)\n",
    "    predictor_1 = DaartInf('Mod1', artifact_path, \"mod1\")\n",
    "    predictor_2 = DaartInf('Mod2', artifact_path, \"mod2\")\n",
    "    predictor_3 = DaartInf('Mod3', artifact_path, \"mod3\")\n",
    "    predictor_4 = DaartInf('Mod4', artifact_path, \"mod4\")\n",
    "    predictor_5 = DaartInf('Mod5', artifact_path, \"mod5\")\n",
    "    ensembler = SimpleEnsembler('ens')\n",
    "    plotter = OverviewPlotter('overview', artifact_path, mtype=marker_type, eid=input_stream.data[\"eid_stream\"][\"eid\"], view=view, paw=paw)\n",
    "\n",
    "    # 1 pipeline\n",
    "    pl = PipeLine()\n",
    "    pl.register(input_stream, extractor)\n",
    "\n",
    "    pl.register(extractor, predictor_1)\n",
    "    pl.register(extractor, predictor_2)\n",
    "    pl.register(extractor, predictor_3)\n",
    "    pl.register(extractor, predictor_4)\n",
    "    pl.register(extractor, predictor_5)\n",
    "\n",
    "    pl.register(predictor_1, ensembler)\n",
    "    pl.register(predictor_2, ensembler)\n",
    "    pl.register(predictor_3, ensembler)\n",
    "    pl.register(predictor_4, ensembler)\n",
    "    pl.register(predictor_5, ensembler)\n",
    "\n",
    "    pl.register(ensembler, plotter)\n",
    "\n",
    "    pl.flow(input_stream)\n",
    "\n",
    "    return input_stream\n",
    "    "
   ]
  },
  {
   "cell_type": "code",
   "execution_count": null,
   "metadata": {},
   "outputs": [],
   "source": [
    "# There are 53 eids in the list\n",
    "for i in tqdm(range(53)): input_stream = make_pipeline(i, view=\"left\", paw=\"paw_r\", marker_type=\"DLC\")"
   ]
  }
 ],
 "metadata": {
  "kernelspec": {
   "display_name": "rudra_pl",
   "language": "python",
   "name": "python3"
  },
  "language_info": {
   "codemirror_mode": {
    "name": "ipython",
    "version": 3
   },
   "file_extension": ".py",
   "mimetype": "text/x-python",
   "name": "python",
   "nbconvert_exporter": "python",
   "pygments_lexer": "ipython3",
   "version": "3.12.8"
  }
 },
 "nbformat": 4,
 "nbformat_minor": 2
}
