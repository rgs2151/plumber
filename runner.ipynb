{
 "cells": [
  {
   "cell_type": "code",
   "execution_count": 1,
   "metadata": {},
   "outputs": [
    {
     "name": "stdout",
     "output_type": "stream",
     "text": [
      "Connected to https://openalyx.internationalbrainlab.org as user \"intbrainlab\"\n",
      "Connected to https://openalyx.internationalbrainlab.org as user \"intbrainlab\"\n"
     ]
    }
   ],
   "source": [
    "from plumber.streams import IBLEidStream\n",
    "from plumber.pipes import DaartInf, IBLMarkerExtractor, SimpleEnsembler, OverviewPlotter\n",
    "\n",
    "from plumber import Stream, Pipe, PipeLine\n",
    "\n",
    "artifact_path = \"/home/nuttidalab/Documents/plab/plumber/artifacts\""
   ]
  },
  {
   "cell_type": "code",
   "execution_count": null,
   "metadata": {},
   "outputs": [],
   "source": [
    "# # One stream\n",
    "# input_stream = IBLEidStream('eid_stream', 2)\n",
    "\n",
    "# # 3 pipes\n",
    "# extractor = IBLMarkerExtractor('markers', artifact_path, smooth=False, mtype='LP')\n",
    "# predictor_1 = DaartInf('Mod1', artifact_path, \"mod1\")\n",
    "# predictor_2 = DaartInf('Mod2', artifact_path, \"mod2\")\n",
    "# predictor_3 = DaartInf('Mod3', artifact_path, \"mod3\")\n",
    "# predictor_4 = DaartInf('Mod4', artifact_path, \"mod4\")\n",
    "# predictor_5 = DaartInf('Mod5', artifact_path, \"mod5\")\n",
    "# ensembler = SimpleEnsembler('ens')\n",
    "# plotter = OverviewPlotter('overview', artifact_path, mtype='LP', eid=input_stream.data[\"eid_stream\"][\"eid\"])\n",
    "\n",
    "# # 1 pipeline\n",
    "# PL = PipeLine()\n",
    "# PL.register(input_stream, extractor)\n",
    "\n",
    "# PL.register(extractor, predictor_1)\n",
    "# PL.register(extractor, predictor_2)\n",
    "# PL.register(extractor, predictor_3)\n",
    "# PL.register(extractor, predictor_4)\n",
    "# PL.register(extractor, predictor_5)\n",
    "\n",
    "# PL.register(predictor_1, ensembler)\n",
    "# PL.register(predictor_2, ensembler)\n",
    "# PL.register(predictor_3, ensembler)\n",
    "# PL.register(predictor_4, ensembler)\n",
    "# PL.register(predictor_5, ensembler)\n",
    "\n",
    "# PL.register(ensembler, plotter)\n",
    "\n",
    "# PL.flow(input_stream)"
   ]
  },
  {
   "cell_type": "code",
   "execution_count": 3,
   "metadata": {},
   "outputs": [],
   "source": [
    "# PL.plot(title=\"IBL Paw Pipeline\", figsize=(5, 5), dpi=100)"
   ]
  },
  {
   "cell_type": "code",
   "execution_count": 4,
   "metadata": {},
   "outputs": [],
   "source": [
    "def make_pipeline(idx=0, marker_type = 'LP'):\n",
    "\n",
    "    # One stream\n",
    "    input_stream = IBLEidStream('eid_stream', idx)\n",
    "\n",
    "    # 3 pipes\n",
    "    extractor = IBLMarkerExtractor('markers', artifact_path, smooth=False, mtype='LP')\n",
    "    predictor_1 = DaartInf('Mod1', artifact_path, \"mod1\")\n",
    "    predictor_2 = DaartInf('Mod2', artifact_path, \"mod2\")\n",
    "    predictor_3 = DaartInf('Mod3', artifact_path, \"mod3\")\n",
    "    predictor_4 = DaartInf('Mod4', artifact_path, \"mod4\")\n",
    "    predictor_5 = DaartInf('Mod5', artifact_path, \"mod5\")\n",
    "    ensembler = SimpleEnsembler('ens')\n",
    "    plotter = OverviewPlotter('overview', artifact_path, mtype='LP', eid=input_stream.data[\"eid_stream\"][\"eid\"])\n",
    "\n",
    "    # 1 pipeline\n",
    "    pl = PipeLine()\n",
    "    pl.register(input_stream, extractor)\n",
    "\n",
    "    pl.register(extractor, predictor_1)\n",
    "    pl.register(extractor, predictor_2)\n",
    "    pl.register(extractor, predictor_3)\n",
    "    pl.register(extractor, predictor_4)\n",
    "    pl.register(extractor, predictor_5)\n",
    "\n",
    "    pl.register(predictor_1, ensembler)\n",
    "    pl.register(predictor_2, ensembler)\n",
    "    pl.register(predictor_3, ensembler)\n",
    "    pl.register(predictor_4, ensembler)\n",
    "    pl.register(predictor_5, ensembler)\n",
    "\n",
    "    pl.register(ensembler, plotter)\n",
    "\n",
    "    pl.flow(input_stream)\n",
    "\n",
    "    return input_stream\n",
    "    "
   ]
  },
  {
   "cell_type": "code",
   "execution_count": null,
   "metadata": {},
   "outputs": [],
   "source": [
    "for i in range(30, 40):\n",
    "    input_stream = make_pipeline(i)\n",
    "    print(i+1)"
   ]
  }
 ],
 "metadata": {
  "kernelspec": {
   "display_name": "iblenv",
   "language": "python",
   "name": "python3"
  },
  "language_info": {
   "codemirror_mode": {
    "name": "ipython",
    "version": 3
   },
   "file_extension": ".py",
   "mimetype": "text/x-python",
   "name": "python",
   "nbconvert_exporter": "python",
   "pygments_lexer": "ipython3",
   "version": "3.10.16"
  }
 },
 "nbformat": 4,
 "nbformat_minor": 2
}
