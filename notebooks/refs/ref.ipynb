{
 "cells": [
  {
   "cell_type": "code",
   "execution_count": null,
   "metadata": {},
   "outputs": [],
   "source": [
    "import matplotlib.pyplot as plt\n",
    "import matplotlib.gridspec as gridspec\n",
    "import numpy as np\n",
    "\n",
    "# Function to plot on the first 4 axes\n",
    "def plot_first_4_axes(gs, fig):\n",
    "    for i, (row, col) in enumerate([(0, 0), (0, 1), (1, 0), (1, 1)]):  # First 2 rows, 2 columns\n",
    "        ax = fig.add_subplot(gs[row, col])  # Select cells from the gridspec\n",
    "        ax.plot(np.random.rand(10), np.random.rand(10), 'o', label=f\"Subplot {i+1}\")\n",
    "        ax.set_title(f\"Subplot {i+1}\")\n",
    "        ax.legend()\n",
    "\n",
    "# Function to fill the entire right column with black\n",
    "def fill_entire_right_column(gs, fig):\n",
    "    ax = fig.add_subplot(gs[:, 3])  # Span all rows in the last column\n",
    "    ax.set_facecolor('black')  # Fill with black color\n",
    "    ax.set_xticks([])  # Remove ticks\n",
    "    ax.set_yticks([])\n",
    "    ax.set_title(\"Right Column\")\n",
    "\n",
    "# Function to leave other subplots empty\n",
    "def leave_axes_empty(gs, fig):\n",
    "    for row in range(8):\n",
    "        for col in range(4):\n",
    "            if not ((row < 2 and col < 2) or col == 3):  # Skip first 4 cells and last column\n",
    "                ax = fig.add_subplot(gs[row, col])\n",
    "                ax.set_xticks([])  # Remove ticks for empty subplots\n",
    "                ax.set_yticks([])\n",
    "                ax.set_frame_on(True)  # Keep the frame for visual alignment\n",
    "\n",
    "# Main function to set up the grid\n",
    "def create_grid():\n",
    "    fig = plt.figure(figsize=(16, 10))  # Adjust the figure size as needed\n",
    "    gs = gridspec.GridSpec(8, 4, figure=fig)  # Create an 8x4 grid\n",
    "\n",
    "    # Assign the first 4 cells to the function\n",
    "    plot_first_4_axes(gs, fig)\n",
    "\n",
    "    # Leave the rest of the axes empty\n",
    "    leave_axes_empty(gs, fig)\n",
    "\n",
    "    # Fill the entire right column with black\n",
    "    fill_entire_right_column(gs, fig)\n",
    "\n",
    "    plt.tight_layout()\n",
    "    plt.show()\n",
    "\n",
    "# Call the main function\n",
    "create_grid()\n"
   ]
  },
  {
   "cell_type": "code",
   "execution_count": null,
   "metadata": {},
   "outputs": [],
   "source": []
  },
  {
   "cell_type": "code",
   "execution_count": null,
   "metadata": {},
   "outputs": [],
   "source": []
  },
  {
   "cell_type": "code",
   "execution_count": null,
   "metadata": {},
   "outputs": [],
   "source": []
  },
  {
   "cell_type": "code",
   "execution_count": null,
   "metadata": {},
   "outputs": [],
   "source": []
  }
 ],
 "metadata": {
  "kernelspec": {
   "display_name": "iblenv",
   "language": "python",
   "name": "python3"
  },
  "language_info": {
   "name": "python",
   "version": "3.10.16"
  }
 },
 "nbformat": 4,
 "nbformat_minor": 2
}
